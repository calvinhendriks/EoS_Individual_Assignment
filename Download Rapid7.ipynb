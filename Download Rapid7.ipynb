{
 "cells": [
  {
   "cell_type": "code",
   "execution_count": 12,
   "metadata": {},
   "outputs": [],
   "source": [
    "import requests\n",
    "import wget\n",
    "import pandas as pd\n",
    "import glob\n",
    "import geoip2.database\n",
    "# from geolite2 import geolite2"
   ]
  },
  {
   "cell_type": "markdown",
   "metadata": {},
   "source": [
    "# Downloading files from Rapid 7:"
   ]
  },
  {
   "cell_type": "code",
   "execution_count": 2,
   "metadata": {},
   "outputs": [],
   "source": [
    "headers = {'X-Api-Key' : 'paste your API key here'}\n",
    "base_url='https://us.api.insight.rapid7.com/opendata/studies/'"
   ]
  },
  {
   "cell_type": "code",
   "execution_count": 6,
   "metadata": {},
   "outputs": [],
   "source": [
    "tcp_response = requests.get(url=base_url+'sonar.tcp/', headers=headers)"
   ]
  },
  {
   "cell_type": "code",
   "execution_count": 28,
   "metadata": {},
   "outputs": [
    {
     "name": "stdout",
     "output_type": "stream",
     "text": [
      "['2018-12-25-1545700211-telnet_23.csv.gz', '2018-12-18-1545095091-telnet_23.csv.gz', '2018-12-11-1544490291-telnet_23.csv.gz', '2018-12-04-1543885489-telnet_23.csv.gz', '2018-11-28-1543420788-telnet_23.csv.gz', '2018-11-20-1542675891-telnet_23.csv.gz', '2018-11-13-1542071123-telnet_23.csv.gz', '2018-11-06-1541468335-telnet_23.csv.gz', '2018-10-30-1540861786-telnet_23.csv.gz', '2018-10-23-1540265080-telnet_23.csv.gz', '2018-10-16-1539651867-telnet_23.csv.gz', '2018-10-09-1539047007-telnet_23.csv.gz', '2018-10-03-1538554769-telnet_23.csv.gz', '2018-09-25-1537859705-telnet_23.csv.gz', '2018-09-18-1537232683-telnet_23.csv.gz', '2018-09-11-1536627805-telnet_23.csv.gz', '2018-09-04-1536032411-telnet_23.csv.gz', '2018-08-29-1535529534-telnet_23.csv.gz', '2018-08-22-1534928946-telnet_23.csv.gz', '2018-08-15-1534352629-telnet_23.csv.gz', '2018-08-13-1534169173-telnet_23.csv.gz', '2018-08-13-1534164000-telnet_23.csv.gz', '2018-08-08-1533713652-telnet_23.csv.gz', '2018-08-06-1533578563-telnet_23.csv.gz', '2018-08-01-1533121201-telnet_23.csv.gz', '2018-07-25-1532516401-telnet_23.csv.gz', '2018-07-18-1531911601-telnet_23.csv.gz', '2018-07-11-1531306801-telnet_23.csv.gz', '2018-07-04-1530702001-telnet_23.csv.gz', '2018-06-06-1528262221-telnet_23.csv.gz', '2018-05-02-1525238221-telnet_23.csv.gz', '2018-04-04-1522819021-telnet_23.csv.gz', '2018-03-07-1520399821-telnet_23.csv.gz', '2018-02-07-1517980621-telnet_23.csv.gz', '2018-01-03-1514956621-telnet_23.csv.gz']\n",
      "35\n"
     ]
    }
   ],
   "source": [
    "tcp_response_json = tcp_response.json()\n",
    "tcp_filelist = tcp_response_json['sonarfile_set']\n",
    "telnet_filelist = [x for x in tcp_filelist if 'telnet_23' in x and '2018' in x and 'telnet_2323' not in x ]\n",
    "print(telnet_filelist)\n",
    "print(len(telnet_filelist))"
   ]
  },
  {
   "cell_type": "code",
   "execution_count": 9,
   "metadata": {},
   "outputs": [],
   "source": [
    "udp_response = requests.get(url=base_url+'sonar.udp/', headers=headers)"
   ]
  },
  {
   "cell_type": "code",
   "execution_count": 29,
   "metadata": {},
   "outputs": [
    {
     "name": "stdout",
     "output_type": "stream",
     "text": [
      "['2018-12-03-1543827880-udp_upnp_1900.csv.gz', '2018-11-05-1541431086-udp_upnp_1900.csv.gz', '2018-10-02-1538449908-udp_upnp_1900.csv.gz', '2018-09-27-1538008641-udp_upnp_1900.csv.gz', '2018-09-03-1536013125-udp_upnp_1900.csv.gz', '2018-08-07-1533605769-udp_upnp_1900.csv.gz', '2018-07-02-1530508141-udp_upnp_1900.csv.gz', '2018-06-04-1528088941-udp_upnp_1900.csv.gz', '2018-05-07-1525669741-udp_upnp_1900.csv.gz', '2018-04-02-1522645741-udp_upnp_1900.csv.gz', '2018-03-05-1520226541-udp_upnp_1900.csv.gz', '2018-02-05-1517807341-udp_upnp_1900.csv.gz', '2018-01-01-1514783341-udp_upnp_1900.csv.gz']\n",
      "13\n"
     ]
    }
   ],
   "source": [
    "udp_response_json = udp_response.json()\n",
    "udp_filelist = udp_response_json['sonarfile_set']\n",
    "upnp_filelist = [x for x in udp_filelist if 'upnp' in x and '1900' in x and '2018' in x]\n",
    "print(upnp_filelist)\n",
    "print(len(upnp_filelist))\n"
   ]
  },
  {
   "cell_type": "markdown",
   "metadata": {},
   "source": [
    "Project sonar scans the IPv4 more than once a month. To prevent our dataframes from becoming to big, only download the first scans of the month by filling in the correct indices in indices_telnet and indices_upnp. \n",
    "\n",
    "After downloading, extract the .gz files and move all the scan results (so <b>NOT</b> the folder inside the archive, but the file in that folder) into Data/Rapid7/Telnet/2018 and Data/Rapid7/UPnP/2018 manually"
   ]
  },
  {
   "cell_type": "code",
   "execution_count": 32,
   "metadata": {},
   "outputs": [
    {
     "name": "stdout",
     "output_type": "stream",
     "text": [
      "100% [........................................................................] 84691240 / 84691240"
     ]
    }
   ],
   "source": [
    "filelist =   []\n",
    "response_url = []\n",
    "study_upnp = 'sonar.udp'\n",
    "study_telnet = 'sonar.tcp'\n",
    "location_telnet = './Data/Rapid7/Telnet/'\n",
    "location_upnp = './Data/Rapid7/UPnP/'\n",
    "\n",
    "indices_telnet = [3,7]\n",
    "indices_upnp = [0,1]\n",
    "\n",
    "# for i in indices_upnp:\n",
    "#     file = upnp_filelist[i]\n",
    "#     complete_url = base_url + study_upnp + '/' + file + '/download/'\n",
    "# #     print(complete_url)\n",
    "#     response = requests.get(url = complete_url, headers=headers)\n",
    "#     response_url.append(response.json()['url'])\n",
    "#     wget.download(response.json()['url'],location_upnp+upnp_filelist[i])\n",
    "    \n",
    "for i in indices_telnet:\n",
    "    file = telnet_filelist[i]\n",
    "    complete_url = base_url + study_telnet + '/' + file + '/download/'\n",
    "#     print(complete_url)\n",
    "    response = requests.get(url = complete_url, headers=headers)\n",
    "    response_url.append(response.json()['url'])\n",
    "    wget.download(response.json()['url'],location_telnet+telnet_filelist[i])\n",
    "    "
   ]
  },
  {
   "cell_type": "markdown",
   "metadata": {},
   "source": [
    "# Adding the Country for each IP address:"
   ]
  },
  {
   "cell_type": "markdown",
   "metadata": {},
   "source": [
    "### This will take a long time!"
   ]
  },
  {
   "cell_type": "code",
   "execution_count": 36,
   "metadata": {},
   "outputs": [
    {
     "name": "stdout",
     "output_type": "stream",
     "text": [
      ".\\Data\\Rapid7\\Telnet\\2018\\2019-09-19-1568929555-telnet_23\n"
     ]
    }
   ],
   "source": [
    "#THIS TAKES A LONG TIME!\n",
    "path = r'.\\Data\\Rapid7\\Telnet\\2018' \n",
    "all_files = glob.glob(path+\"/*\")\n",
    "for f in all_files:\n",
    "    print(f)\n",
    "    \n",
    "df_telnet_2018 = pd.concat((pd.read_csv(f,dtype={\"saddr\":str,},usecols=['timestamp_ts','saddr'],parse_dates=['timestamp_ts'], date_parser=lambda epoch: pd.to_datetime(epoch, unit='s')) for f in all_files))"
   ]
  },
  {
   "cell_type": "code",
   "execution_count": 34,
   "metadata": {},
   "outputs": [
    {
     "name": "stdout",
     "output_type": "stream",
     "text": [
      ".\\Data\\Rapid7\\UPnP\\2018\\2018-11-05-1541431086-udp_upnp_1900\n"
     ]
    }
   ],
   "source": [
    "#THIS TAKES A LONG TIME!\n",
    "path = r'.\\Data\\Rapid7\\UPnP\\2018' \n",
    "all_files = glob.glob(path+\"/*\")\n",
    "for f in all_files:\n",
    "    print(f)\n",
    "    \n",
    "df_upnp_2018 = pd.concat((pd.read_csv(f,dtype={\"saddr\":str,},usecols=['timestamp_ts','saddr'],parse_dates=['timestamp_ts'], date_parser=lambda epoch: pd.to_datetime(epoch, unit='s')) for f in all_files))"
   ]
  },
  {
   "cell_type": "code",
   "execution_count": 27,
   "metadata": {},
   "outputs": [],
   "source": [
    "def get_country(ip):\n",
    "    try:\n",
    "        x = reader.country(ip)\n",
    "#         print(type(x))\n",
    "    except Exception:\n",
    "        return pd.np.nan\n",
    "#     try:\n",
    "    return x.country.iso_code\n",
    "#     except KeyError:\n",
    "#         return pd.np.nan\n",
    "        \n",
    "\n",
    "reader = geoip2.database.Reader('./GeoLite2-Country.mmdb')"
   ]
  },
  {
   "cell_type": "code",
   "execution_count": 38,
   "metadata": {},
   "outputs": [
    {
     "name": "stdout",
     "output_type": "stream",
     "text": [
      "41.5 ms ± 0 ns per loop (mean ± std. dev. of 1 run, 1 loop each)\n"
     ]
    }
   ],
   "source": [
    "unique_ips = df_telnet_2018['saddr'].unique()\n",
    "# make series out of it\n",
    "unique_ips = pd.Series(unique_ips, index = unique_ips)\n",
    "# map IP --> country\n",
    "%timeit -n 1 -r 1 df_telnet_2018['country'] = df_telnet_2018['saddr'].map(unique_ips.apply(get_country))\n",
    "\n",
    "df_telnet_2018.to_csv(r'.\\Data\\Rapid7\\Telnet\\telnet2018.csv',index=False)"
   ]
  },
  {
   "cell_type": "code",
   "execution_count": null,
   "metadata": {},
   "outputs": [],
   "source": [
    "unique_ips = df_upnp_2018['saddr'].unique()\n",
    "# make series out of it\n",
    "unique_ips = pd.Series(unique_ips, index = unique_ips)\n",
    "# map IP --> country\n",
    "%timeit -n 1 -r 1 df_upnp_2018['country'] = df_upnp_2018['saddr'].map(unique_ips.apply(get_country))\n",
    "\n",
    "df_upnp_2018.to_csv(r'.\\Data\\Rapid7\\UPnP\\upnp2018.csv',index=False)"
   ]
  }
 ],
 "metadata": {
  "kernelspec": {
   "display_name": "Python 3",
   "language": "python",
   "name": "python3"
  },
  "language_info": {
   "codemirror_mode": {
    "name": "ipython",
    "version": 3
   },
   "file_extension": ".py",
   "mimetype": "text/x-python",
   "name": "python",
   "nbconvert_exporter": "python",
   "pygments_lexer": "ipython3",
   "version": "3.6.5"
  }
 },
 "nbformat": 4,
 "nbformat_minor": 2
}
