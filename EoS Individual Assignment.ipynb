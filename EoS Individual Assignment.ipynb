{
 "cells": [
  {
   "cell_type": "code",
   "execution_count": 289,
   "metadata": {},
   "outputs": [],
   "source": [
    "import codecs\n",
    "import pandas as pd\n",
    "import matplotlib.pyplot as plt\n",
    "import numpy as np\n",
    "import scipy.stats as stats\n",
    "import wget\n",
    "import numpy as np\n",
    "import pycountry as pc\n",
    "import pycountry_convert as pcc \n",
    "import statsmodels.api as sm\n",
    "from statsmodels.formula.api import glm\n",
    "from statsmodels.graphics.api import abline_plot\n",
    "import seaborn as sns \n"
   ]
  },
  {
   "cell_type": "markdown",
   "metadata": {},
   "source": [
    "# <u>GDP Per Capita Per Country (IMF)</u>"
   ]
  },
  {
   "cell_type": "code",
   "execution_count": 85,
   "metadata": {},
   "outputs": [],
   "source": [
    "gdp18 = pd.read_csv('./Data/WEO_Data_ISO_3.xls' , sep='\\t', thousands=',',usecols=['ISO','Country','2018'],encoding = \"cp1252\")\n",
    "gdp18.columns = ['ISO3','Country','GDP_2018']\n"
   ]
  },
  {
   "cell_type": "code",
   "execution_count": 86,
   "metadata": {},
   "outputs": [
    {
     "data": {
      "text/html": [
       "<div>\n",
       "<style scoped>\n",
       "    .dataframe tbody tr th:only-of-type {\n",
       "        vertical-align: middle;\n",
       "    }\n",
       "\n",
       "    .dataframe tbody tr th {\n",
       "        vertical-align: top;\n",
       "    }\n",
       "\n",
       "    .dataframe thead th {\n",
       "        text-align: right;\n",
       "    }\n",
       "</style>\n",
       "<table border=\"1\" class=\"dataframe\">\n",
       "  <thead>\n",
       "    <tr style=\"text-align: right;\">\n",
       "      <th></th>\n",
       "      <th>ISO3</th>\n",
       "      <th>Country</th>\n",
       "      <th>GDP_2018</th>\n",
       "    </tr>\n",
       "  </thead>\n",
       "  <tbody>\n",
       "    <tr>\n",
       "      <th>0</th>\n",
       "      <td>AFG</td>\n",
       "      <td>Afghanistan</td>\n",
       "      <td>2016.889</td>\n",
       "    </tr>\n",
       "    <tr>\n",
       "      <th>1</th>\n",
       "      <td>ALB</td>\n",
       "      <td>Albania</td>\n",
       "      <td>13344.543</td>\n",
       "    </tr>\n",
       "    <tr>\n",
       "      <th>2</th>\n",
       "      <td>DZA</td>\n",
       "      <td>Algeria</td>\n",
       "      <td>15439.916</td>\n",
       "    </tr>\n",
       "    <tr>\n",
       "      <th>3</th>\n",
       "      <td>AGO</td>\n",
       "      <td>Angola</td>\n",
       "      <td>6814.331</td>\n",
       "    </tr>\n",
       "    <tr>\n",
       "      <th>4</th>\n",
       "      <td>ATG</td>\n",
       "      <td>Antigua and Barbuda</td>\n",
       "      <td>27981.256</td>\n",
       "    </tr>\n",
       "    <tr>\n",
       "      <th>...</th>\n",
       "      <td>...</td>\n",
       "      <td>...</td>\n",
       "      <td>...</td>\n",
       "    </tr>\n",
       "    <tr>\n",
       "      <th>189</th>\n",
       "      <td>VEN</td>\n",
       "      <td>Venezuela</td>\n",
       "      <td>NaN</td>\n",
       "    </tr>\n",
       "    <tr>\n",
       "      <th>190</th>\n",
       "      <td>VNM</td>\n",
       "      <td>Vietnam</td>\n",
       "      <td>7510.526</td>\n",
       "    </tr>\n",
       "    <tr>\n",
       "      <th>191</th>\n",
       "      <td>YEM</td>\n",
       "      <td>Yemen</td>\n",
       "      <td>2377.236</td>\n",
       "    </tr>\n",
       "    <tr>\n",
       "      <th>192</th>\n",
       "      <td>ZMB</td>\n",
       "      <td>Zambia</td>\n",
       "      <td>4103.500</td>\n",
       "    </tr>\n",
       "    <tr>\n",
       "      <th>193</th>\n",
       "      <td>ZWE</td>\n",
       "      <td>Zimbabwe</td>\n",
       "      <td>2787.627</td>\n",
       "    </tr>\n",
       "  </tbody>\n",
       "</table>\n",
       "<p>194 rows × 3 columns</p>\n",
       "</div>"
      ],
      "text/plain": [
       "    ISO3              Country   GDP_2018\n",
       "0    AFG          Afghanistan   2016.889\n",
       "1    ALB              Albania  13344.543\n",
       "2    DZA              Algeria  15439.916\n",
       "3    AGO               Angola   6814.331\n",
       "4    ATG  Antigua and Barbuda  27981.256\n",
       "..   ...                  ...        ...\n",
       "189  VEN            Venezuela        NaN\n",
       "190  VNM              Vietnam   7510.526\n",
       "191  YEM                Yemen   2377.236\n",
       "192  ZMB               Zambia   4103.500\n",
       "193  ZWE             Zimbabwe   2787.627\n",
       "\n",
       "[194 rows x 3 columns]"
      ]
     },
     "execution_count": 86,
     "metadata": {},
     "output_type": "execute_result"
    }
   ],
   "source": [
    "gdp18"
   ]
  },
  {
   "cell_type": "code",
   "execution_count": 127,
   "metadata": {},
   "outputs": [
    {
     "name": "stdout",
     "output_type": "stream",
     "text": [
      "ISO3        0\n",
      "Country     0\n",
      "GDP_2018    3\n",
      "ISO2        1\n",
      "dtype: int64\n",
      "ISO3        0\n",
      "Country     0\n",
      "GDP_2018    0\n",
      "ISO2        0\n",
      "dtype: int64\n",
      "56383.248\n"
     ]
    },
    {
     "data": {
      "text/html": [
       "<div>\n",
       "<style scoped>\n",
       "    .dataframe tbody tr th:only-of-type {\n",
       "        vertical-align: middle;\n",
       "    }\n",
       "\n",
       "    .dataframe tbody tr th {\n",
       "        vertical-align: top;\n",
       "    }\n",
       "\n",
       "    .dataframe thead th {\n",
       "        text-align: right;\n",
       "    }\n",
       "</style>\n",
       "<table border=\"1\" class=\"dataframe\">\n",
       "  <thead>\n",
       "    <tr style=\"text-align: right;\">\n",
       "      <th></th>\n",
       "      <th>ISO3</th>\n",
       "      <th>Country</th>\n",
       "      <th>GDP_2018</th>\n",
       "      <th>ISO2</th>\n",
       "    </tr>\n",
       "  </thead>\n",
       "  <tbody>\n",
       "    <tr>\n",
       "      <th>0</th>\n",
       "      <td>AFG</td>\n",
       "      <td>Afghanistan</td>\n",
       "      <td>2016.889</td>\n",
       "      <td>AF</td>\n",
       "    </tr>\n",
       "    <tr>\n",
       "      <th>1</th>\n",
       "      <td>ALB</td>\n",
       "      <td>Albania</td>\n",
       "      <td>13344.543</td>\n",
       "      <td>AL</td>\n",
       "    </tr>\n",
       "    <tr>\n",
       "      <th>2</th>\n",
       "      <td>DZA</td>\n",
       "      <td>Algeria</td>\n",
       "      <td>15439.916</td>\n",
       "      <td>DZ</td>\n",
       "    </tr>\n",
       "    <tr>\n",
       "      <th>3</th>\n",
       "      <td>AGO</td>\n",
       "      <td>Angola</td>\n",
       "      <td>6814.331</td>\n",
       "      <td>AO</td>\n",
       "    </tr>\n",
       "    <tr>\n",
       "      <th>4</th>\n",
       "      <td>ATG</td>\n",
       "      <td>Antigua and Barbuda</td>\n",
       "      <td>27981.256</td>\n",
       "      <td>AG</td>\n",
       "    </tr>\n",
       "    <tr>\n",
       "      <th>...</th>\n",
       "      <td>...</td>\n",
       "      <td>...</td>\n",
       "      <td>...</td>\n",
       "      <td>...</td>\n",
       "    </tr>\n",
       "    <tr>\n",
       "      <th>188</th>\n",
       "      <td>VUT</td>\n",
       "      <td>Vanuatu</td>\n",
       "      <td>2861.826</td>\n",
       "      <td>VU</td>\n",
       "    </tr>\n",
       "    <tr>\n",
       "      <th>190</th>\n",
       "      <td>VNM</td>\n",
       "      <td>Vietnam</td>\n",
       "      <td>7510.526</td>\n",
       "      <td>VN</td>\n",
       "    </tr>\n",
       "    <tr>\n",
       "      <th>191</th>\n",
       "      <td>YEM</td>\n",
       "      <td>Yemen</td>\n",
       "      <td>2377.236</td>\n",
       "      <td>YE</td>\n",
       "    </tr>\n",
       "    <tr>\n",
       "      <th>192</th>\n",
       "      <td>ZMB</td>\n",
       "      <td>Zambia</td>\n",
       "      <td>4103.500</td>\n",
       "      <td>ZM</td>\n",
       "    </tr>\n",
       "    <tr>\n",
       "      <th>193</th>\n",
       "      <td>ZWE</td>\n",
       "      <td>Zimbabwe</td>\n",
       "      <td>2787.627</td>\n",
       "      <td>ZW</td>\n",
       "    </tr>\n",
       "  </tbody>\n",
       "</table>\n",
       "<p>190 rows × 4 columns</p>\n",
       "</div>"
      ],
      "text/plain": [
       "    ISO3              Country   GDP_2018 ISO2\n",
       "0    AFG          Afghanistan   2016.889   AF\n",
       "1    ALB              Albania  13344.543   AL\n",
       "2    DZA              Algeria  15439.916   DZ\n",
       "3    AGO               Angola   6814.331   AO\n",
       "4    ATG  Antigua and Barbuda  27981.256   AG\n",
       "..   ...                  ...        ...  ...\n",
       "188  VUT              Vanuatu   2861.826   VU\n",
       "190  VNM              Vietnam   7510.526   VN\n",
       "191  YEM                Yemen   2377.236   YE\n",
       "192  ZMB               Zambia   4103.500   ZM\n",
       "193  ZWE             Zimbabwe   2787.627   ZW\n",
       "\n",
       "[190 rows x 4 columns]"
      ]
     },
     "execution_count": 127,
     "metadata": {},
     "output_type": "execute_result"
    }
   ],
   "source": [
    "def iso3toiso2(iso3):\n",
    "    try:\n",
    "        iso2 = pcc.country_alpha3_to_country_alpha2(iso3)\n",
    "    except Exception:\n",
    "        return pd.np.nan\n",
    "    return iso2\n",
    "        \n",
    "\n",
    "\n",
    "gdp18['ISO2'] = gdp18['ISO3'].apply(iso3toiso2)\n",
    "print(gdp18.isna().sum())\n",
    "gdp18.dropna(inplace=True)\n",
    "print(gdp18.isna().sum())\n",
    "gdp18serie = pd.Series(gdp18['GDP_2018'].values,index=gdp18['ISO2'])\n",
    "print(gdp18serie['NL'])\n",
    "gdp18"
   ]
  },
  {
   "cell_type": "markdown",
   "metadata": {},
   "source": [
    "# <u>GCI 2018</u>"
   ]
  },
  {
   "cell_type": "code",
   "execution_count": 129,
   "metadata": {},
   "outputs": [
    {
     "name": "stdout",
     "output_type": "stream",
     "text": [
      "0.885\n"
     ]
    },
    {
     "data": {
      "text/html": [
       "<div>\n",
       "<style scoped>\n",
       "    .dataframe tbody tr th:only-of-type {\n",
       "        vertical-align: middle;\n",
       "    }\n",
       "\n",
       "    .dataframe tbody tr th {\n",
       "        vertical-align: top;\n",
       "    }\n",
       "\n",
       "    .dataframe thead th {\n",
       "        text-align: right;\n",
       "    }\n",
       "</style>\n",
       "<table border=\"1\" class=\"dataframe\">\n",
       "  <thead>\n",
       "    <tr style=\"text-align: right;\">\n",
       "      <th></th>\n",
       "      <th>ISO2</th>\n",
       "      <th>Country</th>\n",
       "      <th>Score</th>\n",
       "    </tr>\n",
       "  </thead>\n",
       "  <tbody>\n",
       "    <tr>\n",
       "      <th>0</th>\n",
       "      <td>GB</td>\n",
       "      <td>United Kingdom</td>\n",
       "      <td>0.931</td>\n",
       "    </tr>\n",
       "    <tr>\n",
       "      <th>1</th>\n",
       "      <td>US</td>\n",
       "      <td>United States of America</td>\n",
       "      <td>0.926</td>\n",
       "    </tr>\n",
       "    <tr>\n",
       "      <th>2</th>\n",
       "      <td>FR</td>\n",
       "      <td>France</td>\n",
       "      <td>0.918</td>\n",
       "    </tr>\n",
       "    <tr>\n",
       "      <th>3</th>\n",
       "      <td>LT</td>\n",
       "      <td>Lithuania</td>\n",
       "      <td>0.908</td>\n",
       "    </tr>\n",
       "    <tr>\n",
       "      <th>4</th>\n",
       "      <td>EE</td>\n",
       "      <td>Estonia</td>\n",
       "      <td>0.905</td>\n",
       "    </tr>\n",
       "    <tr>\n",
       "      <th>...</th>\n",
       "      <td>...</td>\n",
       "      <td>...</td>\n",
       "      <td>...</td>\n",
       "    </tr>\n",
       "    <tr>\n",
       "      <th>189</th>\n",
       "      <td>DM</td>\n",
       "      <td>Dominica</td>\n",
       "      <td>0.019</td>\n",
       "    </tr>\n",
       "    <tr>\n",
       "      <th>190</th>\n",
       "      <td>YF</td>\n",
       "      <td>Yemen</td>\n",
       "      <td>0.019</td>\n",
       "    </tr>\n",
       "    <tr>\n",
       "      <th>191</th>\n",
       "      <td>KM</td>\n",
       "      <td>Comoros</td>\n",
       "      <td>0.015</td>\n",
       "    </tr>\n",
       "    <tr>\n",
       "      <th>192</th>\n",
       "      <td>CD</td>\n",
       "      <td>Democratic People's Republic of the Congo</td>\n",
       "      <td>0.008</td>\n",
       "    </tr>\n",
       "    <tr>\n",
       "      <th>193</th>\n",
       "      <td>MV</td>\n",
       "      <td>Maldives</td>\n",
       "      <td>0.004</td>\n",
       "    </tr>\n",
       "  </tbody>\n",
       "</table>\n",
       "<p>193 rows × 3 columns</p>\n",
       "</div>"
      ],
      "text/plain": [
       "    ISO2                                    Country  Score\n",
       "0     GB                             United Kingdom  0.931\n",
       "1     US                   United States of America  0.926\n",
       "2     FR                                     France  0.918\n",
       "3     LT                                  Lithuania  0.908\n",
       "4     EE                                    Estonia  0.905\n",
       "..   ...                                        ...    ...\n",
       "189   DM                                   Dominica  0.019\n",
       "190   YF                                      Yemen  0.019\n",
       "191   KM                                    Comoros  0.015\n",
       "192   CD  Democratic People's Republic of the Congo  0.008\n",
       "193   MV                                   Maldives  0.004\n",
       "\n",
       "[193 rows x 3 columns]"
      ]
     },
     "execution_count": 129,
     "metadata": {},
     "output_type": "execute_result"
    }
   ],
   "source": [
    "gci18 = pd.read_csv('./Data/GCI_2018_ISO_2.csv',names=['ISO2','Country','Score'],skiprows=1)\n",
    "gci18.dropna(inplace=True)\n",
    "gci18serie = pd.Series(gci18['Score'].values,index=gci18['ISO2'])\n",
    "print(gci18serie['NL'])\n",
    "gci18\n"
   ]
  },
  {
   "cell_type": "code",
   "execution_count": null,
   "metadata": {},
   "outputs": [],
   "source": []
  },
  {
   "cell_type": "code",
   "execution_count": 130,
   "metadata": {},
   "outputs": [
    {
     "data": {
      "text/plain": [
       "ISO2       0\n",
       "Country    0\n",
       "Score      0\n",
       "dtype: int64"
      ]
     },
     "execution_count": 130,
     "metadata": {},
     "output_type": "execute_result"
    }
   ],
   "source": [
    "gci18.isna().sum()"
   ]
  },
  {
   "cell_type": "markdown",
   "metadata": {},
   "source": [
    "# <u>IPv4 Addresses per country</u>"
   ]
  },
  {
   "cell_type": "code",
   "execution_count": 6,
   "metadata": {},
   "outputs": [
    {
     "data": {
      "text/html": [
       "<div>\n",
       "<style scoped>\n",
       "    .dataframe tbody tr th:only-of-type {\n",
       "        vertical-align: middle;\n",
       "    }\n",
       "\n",
       "    .dataframe tbody tr th {\n",
       "        vertical-align: top;\n",
       "    }\n",
       "\n",
       "    .dataframe thead th {\n",
       "        text-align: right;\n",
       "    }\n",
       "</style>\n",
       "<table border=\"1\" class=\"dataframe\">\n",
       "  <thead>\n",
       "    <tr style=\"text-align: right;\">\n",
       "      <th></th>\n",
       "      <th>ISO2</th>\n",
       "      <th>Country</th>\n",
       "      <th>TotalIP</th>\n",
       "    </tr>\n",
       "  </thead>\n",
       "  <tbody>\n",
       "    <tr>\n",
       "      <th>0</th>\n",
       "      <td>US</td>\n",
       "      <td>UNITED STATES</td>\n",
       "      <td>1220338410</td>\n",
       "    </tr>\n",
       "    <tr>\n",
       "      <th>1</th>\n",
       "      <td>CN</td>\n",
       "      <td>CHINA</td>\n",
       "      <td>338199611</td>\n",
       "    </tr>\n",
       "    <tr>\n",
       "      <th>2</th>\n",
       "      <td>JP</td>\n",
       "      <td>JAPAN</td>\n",
       "      <td>206066287</td>\n",
       "    </tr>\n",
       "    <tr>\n",
       "      <th>3</th>\n",
       "      <td>GB</td>\n",
       "      <td>UNITED KINGDOM</td>\n",
       "      <td>123269598</td>\n",
       "    </tr>\n",
       "    <tr>\n",
       "      <th>4</th>\n",
       "      <td>DE</td>\n",
       "      <td>GERMANY</td>\n",
       "      <td>123058389</td>\n",
       "    </tr>\n",
       "    <tr>\n",
       "      <th>5</th>\n",
       "      <td>KR</td>\n",
       "      <td>KOREA REPUBLIC OF</td>\n",
       "      <td>112574647</td>\n",
       "    </tr>\n",
       "    <tr>\n",
       "      <th>6</th>\n",
       "      <td>BR</td>\n",
       "      <td>BRAZIL</td>\n",
       "      <td>84134964</td>\n",
       "    </tr>\n",
       "    <tr>\n",
       "      <th>7</th>\n",
       "      <td>FR</td>\n",
       "      <td>FRANCE</td>\n",
       "      <td>82982194</td>\n",
       "    </tr>\n",
       "    <tr>\n",
       "      <th>8</th>\n",
       "      <td>CA</td>\n",
       "      <td>CANADA</td>\n",
       "      <td>69944236</td>\n",
       "    </tr>\n",
       "    <tr>\n",
       "      <th>9</th>\n",
       "      <td>IT</td>\n",
       "      <td>ITALY</td>\n",
       "      <td>54399039</td>\n",
       "    </tr>\n",
       "    <tr>\n",
       "      <th>10</th>\n",
       "      <td>NL</td>\n",
       "      <td>NETHERLANDS</td>\n",
       "      <td>50722169</td>\n",
       "    </tr>\n",
       "    <tr>\n",
       "      <th>11</th>\n",
       "      <td>AU</td>\n",
       "      <td>AUSTRALIA</td>\n",
       "      <td>50553246</td>\n",
       "    </tr>\n",
       "    <tr>\n",
       "      <th>12</th>\n",
       "      <td>RU</td>\n",
       "      <td>RUSSIAN FEDERATION</td>\n",
       "      <td>45266635</td>\n",
       "    </tr>\n",
       "    <tr>\n",
       "      <th>13</th>\n",
       "      <td>IN</td>\n",
       "      <td>INDIA</td>\n",
       "      <td>43215257</td>\n",
       "    </tr>\n",
       "    <tr>\n",
       "      <th>14</th>\n",
       "      <td>TW</td>\n",
       "      <td>TAIWAN PROVINCE OF CHINA</td>\n",
       "      <td>35427126</td>\n",
       "    </tr>\n",
       "    <tr>\n",
       "      <th>15</th>\n",
       "      <td>ES</td>\n",
       "      <td>SPAIN</td>\n",
       "      <td>34038859</td>\n",
       "    </tr>\n",
       "    <tr>\n",
       "      <th>16</th>\n",
       "      <td>ZA</td>\n",
       "      <td>SOUTH AFRICA</td>\n",
       "      <td>31046951</td>\n",
       "    </tr>\n",
       "    <tr>\n",
       "      <th>17</th>\n",
       "      <td>MX</td>\n",
       "      <td>MEXICO</td>\n",
       "      <td>29122917</td>\n",
       "    </tr>\n",
       "    <tr>\n",
       "      <th>18</th>\n",
       "      <td>SE</td>\n",
       "      <td>SWEDEN</td>\n",
       "      <td>28125740</td>\n",
       "    </tr>\n",
       "    <tr>\n",
       "      <th>19</th>\n",
       "      <td>EG</td>\n",
       "      <td>EGYPT</td>\n",
       "      <td>22195001</td>\n",
       "    </tr>\n",
       "  </tbody>\n",
       "</table>\n",
       "</div>"
      ],
      "text/plain": [
       "   ISO2                   Country     TotalIP\n",
       "0    US             UNITED STATES  1220338410\n",
       "1    CN                     CHINA   338199611\n",
       "2    JP                     JAPAN   206066287\n",
       "3    GB            UNITED KINGDOM   123269598\n",
       "4    DE                   GERMANY   123058389\n",
       "5    KR         KOREA REPUBLIC OF   112574647\n",
       "6    BR                    BRAZIL    84134964\n",
       "7    FR                    FRANCE    82982194\n",
       "8    CA                    CANADA    69944236\n",
       "9    IT                     ITALY    54399039\n",
       "10   NL               NETHERLANDS    50722169\n",
       "11   AU                 AUSTRALIA    50553246\n",
       "12   RU        RUSSIAN FEDERATION    45266635\n",
       "13   IN                     INDIA    43215257\n",
       "14   TW  TAIWAN PROVINCE OF CHINA    35427126\n",
       "15   ES                     SPAIN    34038859\n",
       "16   ZA              SOUTH AFRICA    31046951\n",
       "17   MX                    MEXICO    29122917\n",
       "18   SE                    SWEDEN    28125740\n",
       "19   EG                     EGYPT    22195001"
      ]
     },
     "execution_count": 6,
     "metadata": {},
     "output_type": "execute_result"
    }
   ],
   "source": [
    "ip_per_country = pd.read_csv('./Data/IPv4_per_country_2018_ISO_2.csv',usecols=['Country Code','Country Name', 'Total IPs'],dtype={'Country Code':str,'Country Name':str},thousands=',')\n",
    "ip_per_country.columns=['ISO2','Country','TotalIP']\n",
    "ip_per_country.sort_values(by='TotalIP',ascending=False).head(20)\n",
    "\n"
   ]
  },
  {
   "cell_type": "markdown",
   "metadata": {},
   "source": [
    "# <u>Telnet</u>"
   ]
  },
  {
   "cell_type": "code",
   "execution_count": 8,
   "metadata": {},
   "outputs": [],
   "source": [
    "dftel_list = []\n",
    "dftel_list.append(pd.read_csv('./Data/Rapid7/Telnet/telnet2018_1.csv',usecols=['timestamp_ts','saddr','country']))\n",
    "dftel_list.append(pd.read_csv('./Data/Rapid7/Telnet/telnet2018_2.csv',usecols=['timestamp_ts','saddr','country']))\n",
    "dftel18 = pd.concat(dftel_list)"
   ]
  },
  {
   "cell_type": "code",
   "execution_count": 14,
   "metadata": {},
   "outputs": [],
   "source": [
    "# dftel18 = dftel18.drop(columns='Unnamed: 0')\n",
    "dftel18 = dftel18.reset_index(drop=True)\n",
    "dftel18.columns=['ts','saddr','ISO2']\n",
    "dftel18['ts'] = pd.to_datetime(dftel18['ts']).dt.month"
   ]
  },
  {
   "cell_type": "code",
   "execution_count": 22,
   "metadata": {},
   "outputs": [
    {
     "data": {
      "text/plain": [
       "240"
      ]
     },
     "execution_count": 22,
     "metadata": {},
     "output_type": "execute_result"
    }
   ],
   "source": [
    "dftel18.ISO2.nunique()"
   ]
  },
  {
   "cell_type": "code",
   "execution_count": 38,
   "metadata": {},
   "outputs": [
    {
     "data": {
      "text/plain": [
       "ts           0\n",
       "saddr        0\n",
       "ISO2     73968\n",
       "dtype: int64"
      ]
     },
     "execution_count": 38,
     "metadata": {},
     "output_type": "execute_result"
    }
   ],
   "source": [
    "dftel18.isna().sum()"
   ]
  },
  {
   "cell_type": "code",
   "execution_count": 18,
   "metadata": {},
   "outputs": [],
   "source": [
    "# df_Test.reset_index(inplace=True,drop=True)\n",
    "# df_Test\n",
    "count_telnet = dftel18.groupby(['ISO2']).size().to_frame('country_count').reset_index()"
   ]
  },
  {
   "cell_type": "code",
   "execution_count": 23,
   "metadata": {},
   "outputs": [
    {
     "data": {
      "text/html": [
       "<div>\n",
       "<style scoped>\n",
       "    .dataframe tbody tr th:only-of-type {\n",
       "        vertical-align: middle;\n",
       "    }\n",
       "\n",
       "    .dataframe tbody tr th {\n",
       "        vertical-align: top;\n",
       "    }\n",
       "\n",
       "    .dataframe thead th {\n",
       "        text-align: right;\n",
       "    }\n",
       "</style>\n",
       "<table border=\"1\" class=\"dataframe\">\n",
       "  <thead>\n",
       "    <tr style=\"text-align: right;\">\n",
       "      <th></th>\n",
       "      <th>ISO2</th>\n",
       "      <th>country_count</th>\n",
       "      <th>country_count_avg</th>\n",
       "    </tr>\n",
       "  </thead>\n",
       "  <tbody>\n",
       "    <tr>\n",
       "      <th>45</th>\n",
       "      <td>CN</td>\n",
       "      <td>19294679</td>\n",
       "      <td>1.607890e+06</td>\n",
       "    </tr>\n",
       "    <tr>\n",
       "      <th>222</th>\n",
       "      <td>US</td>\n",
       "      <td>16317943</td>\n",
       "      <td>1.359829e+06</td>\n",
       "    </tr>\n",
       "    <tr>\n",
       "      <th>11</th>\n",
       "      <td>AU</td>\n",
       "      <td>4567786</td>\n",
       "      <td>3.806488e+05</td>\n",
       "    </tr>\n",
       "    <tr>\n",
       "      <th>29</th>\n",
       "      <td>BR</td>\n",
       "      <td>3644610</td>\n",
       "      <td>3.037175e+05</td>\n",
       "    </tr>\n",
       "    <tr>\n",
       "      <th>91</th>\n",
       "      <td>HK</td>\n",
       "      <td>3362088</td>\n",
       "      <td>2.801740e+05</td>\n",
       "    </tr>\n",
       "    <tr>\n",
       "      <th>...</th>\n",
       "      <td>...</td>\n",
       "      <td>...</td>\n",
       "      <td>...</td>\n",
       "    </tr>\n",
       "    <tr>\n",
       "      <th>225</th>\n",
       "      <td>VA</td>\n",
       "      <td>23</td>\n",
       "      <td>1.916667e+00</td>\n",
       "    </tr>\n",
       "    <tr>\n",
       "      <th>157</th>\n",
       "      <td>NF</td>\n",
       "      <td>23</td>\n",
       "      <td>1.916667e+00</td>\n",
       "    </tr>\n",
       "    <tr>\n",
       "      <th>164</th>\n",
       "      <td>NU</td>\n",
       "      <td>7</td>\n",
       "      <td>5.833333e-01</td>\n",
       "    </tr>\n",
       "    <tr>\n",
       "      <th>36</th>\n",
       "      <td>CC</td>\n",
       "      <td>4</td>\n",
       "      <td>3.333333e-01</td>\n",
       "    </tr>\n",
       "    <tr>\n",
       "      <th>86</th>\n",
       "      <td>GS</td>\n",
       "      <td>1</td>\n",
       "      <td>8.333333e-02</td>\n",
       "    </tr>\n",
       "  </tbody>\n",
       "</table>\n",
       "<p>240 rows × 3 columns</p>\n",
       "</div>"
      ],
      "text/plain": [
       "    ISO2  country_count  country_count_avg\n",
       "45    CN       19294679       1.607890e+06\n",
       "222   US       16317943       1.359829e+06\n",
       "11    AU        4567786       3.806488e+05\n",
       "29    BR        3644610       3.037175e+05\n",
       "91    HK        3362088       2.801740e+05\n",
       "..   ...            ...                ...\n",
       "225   VA             23       1.916667e+00\n",
       "157   NF             23       1.916667e+00\n",
       "164   NU              7       5.833333e-01\n",
       "36    CC              4       3.333333e-01\n",
       "86    GS              1       8.333333e-02\n",
       "\n",
       "[240 rows x 3 columns]"
      ]
     },
     "execution_count": 23,
     "metadata": {},
     "output_type": "execute_result"
    }
   ],
   "source": [
    "count_telnet=count_telnet.sort_values(['country_count'],ascending=[False])\n",
    "count_telnet['country_count_avg'] = count_telnet['country_count'].divide(12)\n",
    "count_telnet"
   ]
  },
  {
   "cell_type": "code",
   "execution_count": 37,
   "metadata": {},
   "outputs": [
    {
     "data": {
      "text/plain": [
       "ISO2                 0\n",
       "country_count        0\n",
       "country_count_avg    0\n",
       "dtype: int64"
      ]
     },
     "execution_count": 37,
     "metadata": {},
     "output_type": "execute_result"
    }
   ],
   "source": [
    "count_telnet.isna().sum()"
   ]
  },
  {
   "cell_type": "code",
   "execution_count": 64,
   "metadata": {},
   "outputs": [
    {
     "name": "stdout",
     "output_type": "stream",
     "text": [
      "   ISO2  country_count  country_count_avg\n",
      "68   FK          22127        1843.916667\n"
     ]
    }
   ],
   "source": [
    "print(count_telnet[count_telnet['ISO2'] == 'FK']) "
   ]
  },
  {
   "cell_type": "markdown",
   "metadata": {},
   "source": [
    "# <u>UPnP</u>"
   ]
  },
  {
   "cell_type": "code",
   "execution_count": 25,
   "metadata": {},
   "outputs": [],
   "source": [
    "dfupnp18 = pd.read_csv('./Data/Rapid7/UPnP/upnp2018.csv', usecols=['timestamp_ts','saddr','country'])"
   ]
  },
  {
   "cell_type": "code",
   "execution_count": 26,
   "metadata": {},
   "outputs": [],
   "source": [
    "dfupnp18.columns=['ts','saddr','ISO2']\n",
    "dfupnp18['ts'] = pd.to_datetime(dfupnp18['ts']).dt.month"
   ]
  },
  {
   "cell_type": "code",
   "execution_count": 39,
   "metadata": {},
   "outputs": [
    {
     "name": "stdout",
     "output_type": "stream",
     "text": [
      "228\n",
      "ts          0\n",
      "saddr       0\n",
      "ISO2     1184\n",
      "dtype: int64\n"
     ]
    }
   ],
   "source": [
    "print(dfupnp18['ISO2'].nunique())\n",
    "print(dfupnp18.isna().sum())"
   ]
  },
  {
   "cell_type": "code",
   "execution_count": 28,
   "metadata": {},
   "outputs": [],
   "source": [
    "count_upnp = dfupnp18.groupby(['ISO2']).size().to_frame('country_count').reset_index()\n",
    "count_upnp= count_upnp.sort_values(['country_count'],ascending=[False])"
   ]
  },
  {
   "cell_type": "code",
   "execution_count": 29,
   "metadata": {},
   "outputs": [
    {
     "data": {
      "text/html": [
       "<div>\n",
       "<style scoped>\n",
       "    .dataframe tbody tr th:only-of-type {\n",
       "        vertical-align: middle;\n",
       "    }\n",
       "\n",
       "    .dataframe tbody tr th {\n",
       "        vertical-align: top;\n",
       "    }\n",
       "\n",
       "    .dataframe thead th {\n",
       "        text-align: right;\n",
       "    }\n",
       "</style>\n",
       "<table border=\"1\" class=\"dataframe\">\n",
       "  <thead>\n",
       "    <tr style=\"text-align: right;\">\n",
       "      <th></th>\n",
       "      <th>ISO2</th>\n",
       "      <th>country_count</th>\n",
       "      <th>country_count_avg</th>\n",
       "    </tr>\n",
       "  </thead>\n",
       "  <tbody>\n",
       "    <tr>\n",
       "      <th>42</th>\n",
       "      <td>CN</td>\n",
       "      <td>3623353</td>\n",
       "      <td>301946.083333</td>\n",
       "    </tr>\n",
       "    <tr>\n",
       "      <th>172</th>\n",
       "      <td>RU</td>\n",
       "      <td>1764443</td>\n",
       "      <td>147036.916667</td>\n",
       "    </tr>\n",
       "    <tr>\n",
       "      <th>7</th>\n",
       "      <td>AR</td>\n",
       "      <td>1216501</td>\n",
       "      <td>101375.083333</td>\n",
       "    </tr>\n",
       "    <tr>\n",
       "      <th>210</th>\n",
       "      <td>US</td>\n",
       "      <td>1117729</td>\n",
       "      <td>93144.083333</td>\n",
       "    </tr>\n",
       "    <tr>\n",
       "      <th>206</th>\n",
       "      <td>TW</td>\n",
       "      <td>1113192</td>\n",
       "      <td>92766.000000</td>\n",
       "    </tr>\n",
       "    <tr>\n",
       "      <th>...</th>\n",
       "      <td>...</td>\n",
       "      <td>...</td>\n",
       "      <td>...</td>\n",
       "    </tr>\n",
       "    <tr>\n",
       "      <th>195</th>\n",
       "      <td>TD</td>\n",
       "      <td>3</td>\n",
       "      <td>0.250000</td>\n",
       "    </tr>\n",
       "    <tr>\n",
       "      <th>224</th>\n",
       "      <td>YT</td>\n",
       "      <td>3</td>\n",
       "      <td>0.250000</td>\n",
       "    </tr>\n",
       "    <tr>\n",
       "      <th>46</th>\n",
       "      <td>CV</td>\n",
       "      <td>2</td>\n",
       "      <td>0.166667</td>\n",
       "    </tr>\n",
       "    <tr>\n",
       "      <th>180</th>\n",
       "      <td>SH</td>\n",
       "      <td>1</td>\n",
       "      <td>0.083333</td>\n",
       "    </tr>\n",
       "    <tr>\n",
       "      <th>205</th>\n",
       "      <td>TV</td>\n",
       "      <td>1</td>\n",
       "      <td>0.083333</td>\n",
       "    </tr>\n",
       "  </tbody>\n",
       "</table>\n",
       "<p>228 rows × 3 columns</p>\n",
       "</div>"
      ],
      "text/plain": [
       "    ISO2  country_count  country_count_avg\n",
       "42    CN        3623353      301946.083333\n",
       "172   RU        1764443      147036.916667\n",
       "7     AR        1216501      101375.083333\n",
       "210   US        1117729       93144.083333\n",
       "206   TW        1113192       92766.000000\n",
       "..   ...            ...                ...\n",
       "195   TD              3           0.250000\n",
       "224   YT              3           0.250000\n",
       "46    CV              2           0.166667\n",
       "180   SH              1           0.083333\n",
       "205   TV              1           0.083333\n",
       "\n",
       "[228 rows x 3 columns]"
      ]
     },
     "execution_count": 29,
     "metadata": {},
     "output_type": "execute_result"
    }
   ],
   "source": [
    "count_upnp['country_count_avg'] = count_upnp['country_count'].divide(12)\n",
    "count_upnp"
   ]
  },
  {
   "cell_type": "markdown",
   "metadata": {},
   "source": [
    "# <u>Normalize</u>"
   ]
  },
  {
   "cell_type": "code",
   "execution_count": 30,
   "metadata": {},
   "outputs": [],
   "source": [
    "def intersect(x: pd.Series, y: pd.Series) -> (pd.Series,pd.Series):\n",
    "    intersection = x.index.intersection(y.index)\n",
    "    \n",
    "    # Take the values that are in the intersection index\n",
    "    x_intersec = x[intersection]\n",
    "    y_intersec = y[intersection]\n",
    "    \n",
    "    return x_intersec,y_intersec\n",
    "    "
   ]
  },
  {
   "cell_type": "code",
   "execution_count": null,
   "metadata": {},
   "outputs": [],
   "source": []
  },
  {
   "cell_type": "code",
   "execution_count": 495,
   "metadata": {},
   "outputs": [],
   "source": [
    "telnetserie = pd.Series(count_telnet['country_count_avg'].values,index=count_telnet['ISO2'])\n",
    "upnpserie = pd.Series(count_upnp['country_count_avg'].values,index=count_upnp['ISO2'])\n",
    "ipv4serie = pd.Series(ip_per_country['TotalIP'].values,index=ip_per_country['ISO2'])\n",
    "intersec_upnp = intersect(upnpserie,ipv4serie)\n",
    "intersec_telnet = intersect(telnetserie,ipv4serie)"
   ]
  },
  {
   "cell_type": "code",
   "execution_count": 42,
   "metadata": {},
   "outputs": [],
   "source": [
    "\n"
   ]
  },
  {
   "cell_type": "code",
   "execution_count": null,
   "metadata": {},
   "outputs": [],
   "source": []
  },
  {
   "cell_type": "code",
   "execution_count": 352,
   "metadata": {},
   "outputs": [],
   "source": [
    "normalized_telnet = pd.Series()\n",
    "normalized_upnp = pd.Series()\n",
    "\n",
    "for index, value in intersec_telnet[0].items():\n",
    "    if not pd.isnull(index) and intersec_telnet[1][index] != 0:\n",
    "        normalized_telnet[index] = value / intersec_telnet[1][index]\n",
    "#     print(\"Index : \" + str(index) + \", value : \" + str(value))\n",
    "\n",
    "for index, value in intersec_upnp[0].items():\n",
    "    if not pd.isnull(index) and intersec_upnp[1][index] != 0:\n",
    "        normalized_upnp[index] = value / intersec_upnp[1][index]\n",
    "#     print(\"Index : \" + str(index) + \", value : \" + str(value))\n",
    "\n",
    "\n",
    "normalized_telnet.sort_values(inplace=True)\n",
    "normalized_upnp.sort_values(inplace=True)\n"
   ]
  },
  {
   "cell_type": "markdown",
   "metadata": {},
   "source": [
    "# <u>Linear Regression</u>"
   ]
  },
  {
   "cell_type": "code",
   "execution_count": 357,
   "metadata": {},
   "outputs": [
    {
     "name": "stdout",
     "output_type": "stream",
     "text": [
      "VA    0.000115\n",
      "LY    0.000162\n",
      "NU    0.000285\n",
      "KI    0.000306\n",
      "NR    0.000330\n",
      "        ...   \n",
      "SS    0.040744\n",
      "SZ    0.048213\n",
      "NC    0.050290\n",
      "AX    0.055650\n",
      "GU    0.066856\n",
      "Length: 234, dtype: float64\n"
     ]
    }
   ],
   "source": [
    "normalized_telnet_fix = normalized_telnet.drop(['FK','SY','VC','FM'])\n",
    "print(normalized_telnet_fix)\n",
    "# normalized_telnet_fix = np.log(normalized_telnet_fix)"
   ]
  },
  {
   "cell_type": "code",
   "execution_count": null,
   "metadata": {},
   "outputs": [],
   "source": []
  },
  {
   "cell_type": "code",
   "execution_count": null,
   "metadata": {},
   "outputs": [],
   "source": []
  },
  {
   "cell_type": "code",
   "execution_count": 316,
   "metadata": {},
   "outputs": [],
   "source": [
    "def endog_exog(tel,gdp,gci,upnp):\n",
    "\n",
    "    exog = []\n",
    "    endog = []\n",
    "    for index, value in tel.items():\n",
    "        if index in gdp.index.to_list() and index in gci.index.to_list() and index in upnp.index.to_list():\n",
    "            if tel[index] != np.nan and gdp[index] != np.nan and gci[index] != np.nan and upnp[index] != np.nan:\n",
    "                sub_exog = []\n",
    "\n",
    "                sub_exog.append(gdp[index])\n",
    "                sub_exog.append(gci[index])\n",
    "                sub_exog.append(upnp[index])\n",
    "                exog.append(sub_exog)\n",
    "                endog.append(tel[index])\n",
    "\n",
    "    # print(type(exog[0][0]))\n",
    "    # print(exog[0][0])\n",
    "    # print(exog)\n",
    "    # print(endog)\n",
    "    # print(len(exog))\n",
    "    # print(len(endog))\n",
    "    exog = pd.DataFrame(exog, columns=['GDP','GCI','UPnP'])\n",
    "    endog = pd.DataFrame(endog,columns=['Telnet'])\n",
    "    return endog, exog\n",
    "\n",
    "# print(exog)\n",
    "# print(endog)\n",
    "\n",
    "# print(pd.concat([exog,endog],axis=1))\n",
    "# total =pd.concat([exog,endog],axis=1)\n",
    "# print(total.corr(method='spearman'))\n",
    "# print(stats.spearmanr(total['GDP'],total['Telnet']))\n",
    "# print(stats.spearmanr(total['GCI'],total['Telnet']))\n",
    "# print(stats.spearmanr(total['UPnP'],total['Telnet']))"
   ]
  },
  {
   "cell_type": "code",
   "execution_count": 219,
   "metadata": {},
   "outputs": [
    {
     "data": {
      "text/plain": [
       "0.00016175845303458857"
      ]
     },
     "execution_count": 219,
     "metadata": {},
     "output_type": "execute_result"
    }
   ],
   "source": []
  },
  {
   "cell_type": "code",
   "execution_count": 471,
   "metadata": {},
   "outputs": [
    {
     "data": {
      "image/png": "[encoded data removed]",
      "text/plain": [
       "<Figure size 1080x648 with 1 Axes>"
      ]
     },
     "metadata": {},
     "output_type": "display_data"
    }
   ],
   "source": [
    "axlog = np.log(normalized_telnet_fix).hist(bins=50)\n",
    "axlog.set_ylabel('Frequency',fontsize=20)\n",
    "axlog.set_xlabel('log-transformed normalized amount of IP addresses with a reachable port 23',fontsize=20)\n",
    "# axreg = normalized_telnet_fix.hist(bins=50)\n",
    "# axreg.set_ylabel('Frequency',fontsize=20)\n",
    "# axreg.set_xlabel('normalized amount of IP addresses with a reachable port 23',fontsize=20)\n",
    "figlog = axlog.get_figure()\n",
    "# figreg = axreg.get_figure()\n",
    "\n",
    "\n",
    "figlog.savefig('./histlog')\n",
    "# figreg.savefig('./histreg')"
   ]
  },
  {
   "cell_type": "code",
   "execution_count": 456,
   "metadata": {},
   "outputs": [
    {
     "data": {
      "image/png": "[encoded data removed]",
      "text/plain": [
       "<Figure size 1080x648 with 1 Axes>"
      ]
     },
     "metadata": {},
     "output_type": "display_data"
    }
   ],
   "source": [
    "tel_upnp_intersec = intersect(normalized_telnet_fix,normalized_upnp)\n",
    "tel_upnp_exog = []\n",
    "tel_upnp_endog = []\n",
    "for index , values in tel_upnp_intersec[0].items():\n",
    "    tel_upnp_endog.append(tel_upnp_intersec[0][index])\n",
    "    tel_upnp_exog.append(tel_upnp_intersec[1][index])\n",
    "    \n",
    "tel_upnp_exog=pd.DataFrame(tel_upnp_exog,columns=['UPnP'])\n",
    "tel_upnp_endog=pd.DataFrame(tel_upnp_endog,columns=['Telnet'])\n",
    "\n",
    "plt.scatter(tel_upnp_exog,tel_upnp_endog)\n",
    "plt.xlabel(\"UPnP\")\n",
    "plt.ylabel(\"Telnet\")\n",
    "plt.show()\n",
    "    "
   ]
  },
  {
   "cell_type": "code",
   "execution_count": 457,
   "metadata": {},
   "outputs": [
    {
     "data": {
      "image/png": "[encoded data removed]",
      "text/plain": [
       "<Figure size 1080x648 with 1 Axes>"
      ]
     },
     "metadata": {},
     "output_type": "display_data"
    }
   ],
   "source": [
    "tel_gci_intersec = intersect(normalized_telnet_fix,gci18serie)\n",
    "\n",
    "tel_gci_exog = []\n",
    "tel_gci_endog = []\n",
    "\n",
    "for index , values in tel_gci_intersec[0].items():\n",
    "    tel_gci_endog.append(tel_gci_intersec[0][index])\n",
    "    tel_gci_exog.append(tel_gci_intersec[1][index])\n",
    "    \n",
    "\n",
    "tel_gci_exog=pd.DataFrame(tel_gci_exog,columns=['GCI'])\n",
    "tel_gci_endog=pd.DataFrame(tel_gci_endog,columns=['Telnet'])\n",
    "plt.scatter(tel_gci_exog,tel_gci_endog)\n",
    "plt.xlabel(\"GCI 2018 Score\")\n",
    "plt.ylabel(\"Telnet\")\n",
    "plt.show()\n",
    "    "
   ]
  },
  {
   "cell_type": "code",
   "execution_count": 458,
   "metadata": {},
   "outputs": [
    {
     "data": {
      "image/png": "[encoded data removed]",
      "text/plain": [
       "<Figure size 1080x648 with 1 Axes>"
      ]
     },
     "metadata": {},
     "output_type": "display_data"
    }
   ],
   "source": [
    "tel_gdp_intersec = intersect(normalized_telnet_fix,gdp18serie)\n",
    "\n",
    "tel_gdp_exog = []\n",
    "tel_gdp_endog = []\n",
    "\n",
    "for index , values in tel_gdp_intersec[0].items():\n",
    "    tel_gdp_endog.append(tel_gdp_intersec[0][index])\n",
    "    tel_gdp_exog.append(tel_gdp_intersec[1][index])\n",
    "    \n",
    "tel_gdp_exog=pd.DataFrame(tel_gdp_exog,columns=['GDP'])\n",
    "tel_gdp_endog=pd.DataFrame(tel_gdp_endog,columns=['Telnet'])\n",
    "\n",
    "plt.scatter(tel_gdp_exog,tel_gdp_endog)\n",
    "plt.xlabel(\"GDP 2018\")\n",
    "plt.ylabel(\"Telnet\")\n",
    "plt.show()"
   ]
  },
  {
   "cell_type": "code",
   "execution_count": 501,
   "metadata": {},
   "outputs": [
    {
     "data": {
      "image/png": "[encoded data removed]",
      "text/plain": [
       "<Figure size 1080x648 with 1 Axes>"
      ]
     },
     "metadata": {},
     "output_type": "display_data"
    }
   ],
   "source": [
    "from sklearn.datasets.samples_generator import make_regression\n",
    "x1, y1 = make_regression(n_samples=100, n_features=1, noise=10)\n",
    "\n",
    "\n",
    "stats.probplot(np.log(normalized_telnet_fix), dist=\"norm\", plot=plt)\n",
    "plt.show()\n",
    "\n"
   ]
  },
  {
   "cell_type": "code",
   "execution_count": null,
   "metadata": {},
   "outputs": [],
   "source": []
  },
  {
   "cell_type": "code",
   "execution_count": 498,
   "metadata": {
    "scrolled": false
   },
   "outputs": [
    {
     "name": "stdout",
     "output_type": "stream",
     "text": [
      "SpearmanrResult(correlation=-0.1874404875261855, pvalue=0.012480887244070584)\n",
      "SpearmanrResult(correlation=-0.32905524652408097, pvalue=7.75089322722406e-06)\n",
      "SpearmanrResult(correlation=0.21296809265767558, pvalue=0.004427152313899868)\n",
      "                                 OLS Regression Results                                \n",
      "=======================================================================================\n",
      "Dep. Variable:                 Telnet   R-squared (uncentered):                   0.504\n",
      "Model:                            OLS   Adj. R-squared (uncentered):              0.502\n",
      "Method:                 Least Squares   F-statistic:                              179.1\n",
      "Date:                Sat, 16 Nov 2019   Prob (F-statistic):                    1.27e-28\n",
      "Time:                        14:57:53   Log-Likelihood:                         -499.66\n",
      "No. Observations:                 177   AIC:                                      1001.\n",
      "Df Residuals:                     176   BIC:                                      1004.\n",
      "Df Model:                           1                                                  \n",
      "Covariance Type:            nonrobust                                                  \n",
      "==============================================================================\n",
      "                 coef    std err          t      P>|t|      [0.025      0.975]\n",
      "------------------------------------------------------------------------------\n",
      "GDP           -0.0001   9.99e-06    -13.382      0.000      -0.000      -0.000\n",
      "==============================================================================\n",
      "Omnibus:                       74.641   Durbin-Watson:                   1.071\n",
      "Prob(Omnibus):                  0.000   Jarque-Bera (JB):              267.159\n",
      "Skew:                           1.662   Prob(JB):                     9.71e-59\n",
      "Kurtosis:                       8.018   Cond. No.                         1.00\n",
      "==============================================================================\n",
      "\n",
      "Warnings:\n",
      "[1] Standard Errors assume that the covariance matrix of the errors is correctly specified.\n",
      "                                 OLS Regression Results                                \n",
      "=======================================================================================\n",
      "Dep. Variable:                 Telnet   R-squared (uncentered):                   0.730\n",
      "Model:                            OLS   Adj. R-squared (uncentered):              0.728\n",
      "Method:                 Least Squares   F-statistic:                              474.7\n",
      "Date:                Sat, 16 Nov 2019   Prob (F-statistic):                    7.47e-52\n",
      "Time:                        14:57:53   Log-Likelihood:                         -446.05\n",
      "No. Observations:                 177   AIC:                                      894.1\n",
      "Df Residuals:                     176   BIC:                                      897.3\n",
      "Df Model:                           1                                                  \n",
      "Covariance Type:            nonrobust                                                  \n",
      "==============================================================================\n",
      "                 coef    std err          t      P>|t|      [0.025      0.975]\n",
      "------------------------------------------------------------------------------\n",
      "GCI           -9.0221      0.414    -21.788      0.000      -9.839      -8.205\n",
      "==============================================================================\n",
      "Omnibus:                       29.076   Durbin-Watson:                   1.549\n",
      "Prob(Omnibus):                  0.000   Jarque-Bera (JB):                8.372\n",
      "Skew:                          -0.198   Prob(JB):                       0.0152\n",
      "Kurtosis:                       2.011   Cond. No.                         1.00\n",
      "==============================================================================\n",
      "\n",
      "Warnings:\n",
      "[1] Standard Errors assume that the covariance matrix of the errors is correctly specified.\n",
      "                                 OLS Regression Results                                \n",
      "=======================================================================================\n",
      "Dep. Variable:                 Telnet   R-squared (uncentered):                   0.193\n",
      "Model:                            OLS   Adj. R-squared (uncentered):              0.188\n",
      "Method:                 Least Squares   F-statistic:                              42.00\n",
      "Date:                Sat, 16 Nov 2019   Prob (F-statistic):                    8.87e-10\n",
      "Time:                        14:57:53   Log-Likelihood:                         -542.83\n",
      "No. Observations:                 177   AIC:                                      1088.\n",
      "Df Residuals:                     176   BIC:                                      1091.\n",
      "Df Model:                           1                                                  \n",
      "Covariance Type:            nonrobust                                                  \n",
      "==============================================================================\n",
      "                 coef    std err          t      P>|t|      [0.025      0.975]\n",
      "------------------------------------------------------------------------------\n",
      "UPnP       -1832.2265    282.725     -6.481      0.000   -2390.194   -1274.259\n",
      "==============================================================================\n",
      "Omnibus:                      115.651   Durbin-Watson:                   0.396\n",
      "Prob(Omnibus):                  0.000   Jarque-Bera (JB):              628.643\n",
      "Skew:                           2.589   Prob(JB):                    3.10e-137\n",
      "Kurtosis:                      10.643   Cond. No.                         1.00\n",
      "==============================================================================\n",
      "\n",
      "Warnings:\n",
      "[1] Standard Errors assume that the covariance matrix of the errors is correctly specified.\n"
     ]
    },
    {
     "data": {
      "image/png": "[encoded data removed]",
      "text/plain": [
       "<Figure size 576x288 with 1 Axes>"
      ]
     },
     "metadata": {},
     "output_type": "display_data"
    },
    {
     "data": {
      "image/png": "[encoded data removed]",
      "text/plain": [
       "<Figure size 576x288 with 1 Axes>"
      ]
     },
     "metadata": {},
     "output_type": "display_data"
    },
    {
     "data": {
      "image/png": "[encoded data removed]",
      "text/plain": [
       "<Figure size 576x288 with 1 Axes>"
      ]
     },
     "metadata": {},
     "output_type": "display_data"
    }
   ],
   "source": [
    "endog_log, exog_log = endog_exog(np.log(normalized_telnet_fix), np.log(gdp18serie),np.log(gci18serie), np.log(normalized_upnp))\n",
    "endog, exog = endog_exog(normalized_telnet_fix, gdp18serie,gci18serie, normalized_upnp)\n",
    "\n",
    "total =pd.concat([exog,endog],axis=1)\n",
    "\n",
    "print(stats.spearmanr(total['GDP'],total['Telnet']))\n",
    "print(stats.spearmanr(total['GCI'],total['Telnet']))\n",
    "print(stats.spearmanr(total['UPnP'],total['Telnet']))\n",
    "\n",
    "\n",
    "\n",
    "total['Telnet'] = np.log(total['Telnet'])\n",
    "\n",
    "\n",
    "\n",
    "def reg(dep,indep):\n",
    "    \n",
    "    # x = np.random.randn(100)\n",
    "\n",
    "    # y = x + np.random.randn(100) + 10\n",
    "    y = dep\n",
    "    x = indep\n",
    "    fig, ax = plt.subplots(figsize=(8, 4))\n",
    "    ax.scatter(x, y, alpha=0.5, color='orchid')\n",
    "    fig.suptitle('Example Scatter Plot')\n",
    "    fig.tight_layout(pad=2); \n",
    "    ax.grid(True)\n",
    "    fig.show\n",
    "\n",
    "    model = sm.OLS(y, x)\n",
    "    fitted = model.fit()\n",
    "    x_pred = np.linspace(x.min(), x.max(), 50)\n",
    "  \n",
    "    y_pred = fitted.predict(x_pred)\n",
    "\n",
    "    ax.plot(x_pred, y_pred, '-', color='darkorchid', linewidth=2)\n",
    "    ax.set_ylim(y.min(), y.max())\n",
    "    fig.show()\n",
    "    print(fitted.summary())\n",
    "    \n",
    "reg(total['Telnet'],total['GDP'])\n",
    "reg(total['Telnet'],total['GCI'])\n",
    "reg(total['Telnet'],total['UPnP'])"
   ]
  },
  {
   "cell_type": "code",
   "execution_count": null,
   "metadata": {},
   "outputs": [],
   "source": []
  },
  {
   "cell_type": "code",
   "execution_count": null,
   "metadata": {},
   "outputs": [],
   "source": []
  },
  {
   "cell_type": "code",
   "execution_count": null,
   "metadata": {},
   "outputs": [],
   "source": []
  }
 ],
 "metadata": {
  "kernelspec": {
   "display_name": "Python 3",
   "language": "python",
   "name": "python3"
  },
  "language_info": {
   "codemirror_mode": {
    "name": "ipython",
    "version": 3
   },
   "file_extension": ".py",
   "mimetype": "text/x-python",
   "name": "python",
   "nbconvert_exporter": "python",
   "pygments_lexer": "ipython3",
   "version": "3.6.5"
  }
 },
 "nbformat": 4,
 "nbformat_minor": 2
}
